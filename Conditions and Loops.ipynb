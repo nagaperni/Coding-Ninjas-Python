{
 "cells": [
  {
   "cell_type": "markdown",
   "id": "9b709941",
   "metadata": {},
   "source": [
    "# Is N odd or even?"
   ]
  },
  {
   "cell_type": "code",
   "execution_count": 3,
   "id": "707c69e0",
   "metadata": {},
   "outputs": [
    {
     "name": "stdout",
     "output_type": "stream",
     "text": [
      "207897\n",
      "N is odd\n"
     ]
    }
   ],
   "source": [
    "n = int(input())\n",
    "\n",
    "if n % 2 == 0:\n",
    "    print(\"N is even\")\n",
    "else:\n",
    "    print(\"N is odd\")"
   ]
  },
  {
   "cell_type": "markdown",
   "id": "5e3bea7b",
   "metadata": {},
   "source": [
    "# what is the answer"
   ]
  },
  {
   "cell_type": "code",
   "execution_count": 4,
   "id": "c3285184",
   "metadata": {},
   "outputs": [
    {
     "name": "stdout",
     "output_type": "stream",
     "text": [
      "medium\n"
     ]
    }
   ],
   "source": [
    "n = 15\n",
    "#Check If the number is between 1 to 10\n",
    "if n>=1 and n<=10:\n",
    "    print(\"too low\")\n",
    "\n",
    "#Check If the number is between 11 to 20\n",
    "elif n>=10 and n<=20:\n",
    "    print(\"medium\")\n",
    "\n",
    "#Check If the number is between 21 to 30\n",
    "elif n>=20 and n<=30:\n",
    "    print(\"large\")\n",
    "#Check if the number is greater than 30 \n",
    "else:\n",
    "    print(\"too large\")"
   ]
  },
  {
   "cell_type": "markdown",
   "id": "4a762b11",
   "metadata": {},
   "source": [
    "# what will be printed"
   ]
  },
  {
   "cell_type": "code",
   "execution_count": 5,
   "id": "d429149b",
   "metadata": {},
   "outputs": [
    {
     "name": "stdout",
     "output_type": "stream",
     "text": [
      "Hello\n",
      "Hi\n"
     ]
    }
   ],
   "source": [
    "#All if conditions will be printed if met the conditions\n",
    "x = 5\n",
    "if x < 6:\n",
    "    print(\"Hello\")\n",
    "if x == 5:\n",
    "    print(\"Hi\")\n",
    "else:\n",
    "    print(\"Hey\")"
   ]
  },
  {
   "cell_type": "markdown",
   "id": "c00d9106",
   "metadata": {},
   "source": [
    "# Using relational and logical operators"
   ]
  },
  {
   "cell_type": "code",
   "execution_count": 6,
   "id": "aa8dac6a",
   "metadata": {},
   "outputs": [
    {
     "name": "stdout",
     "output_type": "stream",
     "text": [
      "10\n",
      "20\n",
      "not greater than 10\n"
     ]
    }
   ],
   "source": [
    "a = int(input())\n",
    "b = int(input())\n",
    "\n",
    "if a > 10 and b > 10:\n",
    "    print(\"both > 10\")\n",
    "else:\n",
    "    print(\"not greater than 10\")"
   ]
  },
  {
   "cell_type": "code",
   "execution_count": 9,
   "id": "245e4150",
   "metadata": {},
   "outputs": [
    {
     "name": "stdout",
     "output_type": "stream",
     "text": [
      "8\n",
      "a is not equal to 7\n"
     ]
    }
   ],
   "source": [
    "a = int(input())\n",
    "\n",
    "if a == 7:\n",
    "    print(\"a is equal to 7\")\n",
    "else:\n",
    "    print(\"a is not equal to 7\")"
   ]
  },
  {
   "cell_type": "markdown",
   "id": "c03a9224",
   "metadata": {},
   "source": [
    "# Elif"
   ]
  },
  {
   "cell_type": "code",
   "execution_count": 10,
   "id": "f8b459c4",
   "metadata": {},
   "outputs": [
    {
     "name": "stdout",
     "output_type": "stream",
     "text": [
      "3\n",
      "4\n",
      "6\n",
      "6\n"
     ]
    }
   ],
   "source": [
    "a = int(input())\n",
    "b = int(input())\n",
    "c = int(input())\n",
    "\n",
    "if a>b and a>c:\n",
    "    print(a)\n",
    "elif b>a and b>c:\n",
    "    print(b)\n",
    "else:\n",
    "    print(c)"
   ]
  },
  {
   "cell_type": "code",
   "execution_count": null,
   "id": "0cebfdd4",
   "metadata": {},
   "outputs": [],
   "source": []
  }
 ],
 "metadata": {
  "kernelspec": {
   "display_name": "Python 3",
   "language": "python",
   "name": "python3"
  },
  "language_info": {
   "codemirror_mode": {
    "name": "ipython",
    "version": 3
   },
   "file_extension": ".py",
   "mimetype": "text/x-python",
   "name": "python",
   "nbconvert_exporter": "python",
   "pygments_lexer": "ipython3",
   "version": "3.8.8"
  }
 },
 "nbformat": 4,
 "nbformat_minor": 5
}
