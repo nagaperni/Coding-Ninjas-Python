{
 "cells": [
  {
   "cell_type": "markdown",
   "id": "ae1c3623",
   "metadata": {},
   "source": [
    "# Create a list"
   ]
  },
  {
   "cell_type": "code",
   "execution_count": null,
   "id": "295f9427",
   "metadata": {},
   "outputs": [],
   "source": [
    "li = []"
   ]
  },
  {
   "cell_type": "code",
   "execution_count": 1,
   "id": "0713a628",
   "metadata": {},
   "outputs": [
    {
     "data": {
      "text/plain": [
       "list"
      ]
     },
     "execution_count": 1,
     "metadata": {},
     "output_type": "execute_result"
    }
   ],
   "source": [
    "li = [1,2,3]\n",
    "\n",
    "type(li)"
   ]
  },
  {
   "cell_type": "code",
   "execution_count": 2,
   "id": "67d6e62c",
   "metadata": {},
   "outputs": [
    {
     "data": {
      "text/plain": [
       "list"
      ]
     },
     "execution_count": 2,
     "metadata": {},
     "output_type": "execute_result"
    }
   ],
   "source": [
    "li = [1,2,3,\"Naga\",10.95]\n",
    "\n",
    "type(li)"
   ]
  },
  {
   "cell_type": "code",
   "execution_count": 3,
   "id": "a46b73b9",
   "metadata": {},
   "outputs": [
    {
     "data": {
      "text/plain": [
       "[1, 2, 3, 'Naga', 10.95]"
      ]
     },
     "execution_count": 3,
     "metadata": {},
     "output_type": "execute_result"
    }
   ],
   "source": [
    "li"
   ]
  },
  {
   "cell_type": "markdown",
   "id": "4fb6607d",
   "metadata": {},
   "source": [
    "## Access and change elements in lists"
   ]
  },
  {
   "cell_type": "code",
   "execution_count": 4,
   "id": "93e6f7b3",
   "metadata": {},
   "outputs": [
    {
     "data": {
      "text/plain": [
       "1"
      ]
     },
     "execution_count": 4,
     "metadata": {},
     "output_type": "execute_result"
    }
   ],
   "source": [
    "li[0]"
   ]
  },
  {
   "cell_type": "code",
   "execution_count": 5,
   "id": "2ef04083",
   "metadata": {},
   "outputs": [
    {
     "data": {
      "text/plain": [
       "10.95"
      ]
     },
     "execution_count": 5,
     "metadata": {},
     "output_type": "execute_result"
    }
   ],
   "source": [
    "li[4]"
   ]
  },
  {
   "cell_type": "code",
   "execution_count": 6,
   "id": "7c96374e",
   "metadata": {},
   "outputs": [],
   "source": [
    "#change element\n",
    "li[0] = 2"
   ]
  },
  {
   "cell_type": "code",
   "execution_count": 7,
   "id": "963ef63e",
   "metadata": {},
   "outputs": [
    {
     "data": {
      "text/plain": [
       "2"
      ]
     },
     "execution_count": 7,
     "metadata": {},
     "output_type": "execute_result"
    }
   ],
   "source": [
    "li[0]"
   ]
  },
  {
   "cell_type": "markdown",
   "id": "1d9f52fe",
   "metadata": {},
   "source": [
    "### Slicing of a list"
   ]
  },
  {
   "cell_type": "code",
   "execution_count": 11,
   "id": "da141d3d",
   "metadata": {},
   "outputs": [
    {
     "data": {
      "text/plain": [
       "[2, 3]"
      ]
     },
     "execution_count": 11,
     "metadata": {},
     "output_type": "execute_result"
    }
   ],
   "source": [
    "li[1:3]"
   ]
  },
  {
   "cell_type": "code",
   "execution_count": 12,
   "id": "73570bf1",
   "metadata": {},
   "outputs": [
    {
     "data": {
      "text/plain": [
       "[2, 3, 'Naga', 10.95]"
      ]
     },
     "execution_count": 12,
     "metadata": {},
     "output_type": "execute_result"
    }
   ],
   "source": [
    "li[1:]"
   ]
  },
  {
   "cell_type": "code",
   "execution_count": 13,
   "id": "5413a309",
   "metadata": {},
   "outputs": [
    {
     "data": {
      "text/plain": [
       "[2, 2, 3, 'Naga', 10.95]"
      ]
     },
     "execution_count": 13,
     "metadata": {},
     "output_type": "execute_result"
    }
   ],
   "source": [
    "li[:]"
   ]
  },
  {
   "cell_type": "markdown",
   "id": "1d04bcc1",
   "metadata": {},
   "source": [
    "## Insert and Append elements in list"
   ]
  },
  {
   "cell_type": "code",
   "execution_count": 14,
   "id": "22ad0aaa",
   "metadata": {},
   "outputs": [],
   "source": [
    "li.append(\"Navya\") #append elements to the list"
   ]
  },
  {
   "cell_type": "code",
   "execution_count": 15,
   "id": "d79dae3b",
   "metadata": {},
   "outputs": [
    {
     "data": {
      "text/plain": [
       "[2, 2, 3, 'Naga', 10.95, 'Navya']"
      ]
     },
     "execution_count": 15,
     "metadata": {},
     "output_type": "execute_result"
    }
   ],
   "source": [
    "li"
   ]
  },
  {
   "cell_type": "code",
   "execution_count": 16,
   "id": "d3564c01",
   "metadata": {},
   "outputs": [],
   "source": [
    "li.insert(1,\"1stindex\") #used to insert an element at particular index"
   ]
  },
  {
   "cell_type": "code",
   "execution_count": 17,
   "id": "7f05578e",
   "metadata": {},
   "outputs": [
    {
     "data": {
      "text/plain": [
       "[2, '1stindex', 2, 3, 'Naga', 10.95, 'Navya']"
      ]
     },
     "execution_count": 17,
     "metadata": {},
     "output_type": "execute_result"
    }
   ],
   "source": [
    "li"
   ]
  },
  {
   "cell_type": "code",
   "execution_count": 18,
   "id": "f24db2aa",
   "metadata": {},
   "outputs": [],
   "source": [
    "li.append([9,10,11]) #insert a list of elements"
   ]
  },
  {
   "cell_type": "code",
   "execution_count": 19,
   "id": "b209f994",
   "metadata": {},
   "outputs": [
    {
     "data": {
      "text/plain": [
       "[2, '1stindex', 2, 3, 'Naga', 10.95, 'Navya', [9, 10, 11]]"
      ]
     },
     "execution_count": 19,
     "metadata": {},
     "output_type": "execute_result"
    }
   ],
   "source": [
    "li"
   ]
  },
  {
   "cell_type": "code",
   "execution_count": 21,
   "id": "a4c417a2",
   "metadata": {},
   "outputs": [],
   "source": [
    "li.extend([9,10,11]) #used to append multiple elements"
   ]
  },
  {
   "cell_type": "code",
   "execution_count": 22,
   "id": "a03d4e76",
   "metadata": {},
   "outputs": [
    {
     "data": {
      "text/plain": [
       "[2, '1stindex', 2, 3, 'Naga', 10.95, 'Navya', [9, 10, 11], 9, 10, 11]"
      ]
     },
     "execution_count": 22,
     "metadata": {},
     "output_type": "execute_result"
    }
   ],
   "source": [
    "li"
   ]
  },
  {
   "cell_type": "markdown",
   "id": "0137ea5c",
   "metadata": {},
   "source": [
    "## Removing elements from lists"
   ]
  },
  {
   "cell_type": "code",
   "execution_count": 25,
   "id": "126c14fe",
   "metadata": {},
   "outputs": [
    {
     "data": {
      "text/plain": [
       "[2, '1stindex', 2, 3, 'Naga', 10.95, 'Navya', [9, 10, 11], 9, 10, 11]"
      ]
     },
     "execution_count": 25,
     "metadata": {},
     "output_type": "execute_result"
    }
   ],
   "source": [
    "li"
   ]
  },
  {
   "cell_type": "code",
   "execution_count": 26,
   "id": "d99be945",
   "metadata": {},
   "outputs": [],
   "source": [
    "li.remove(2) #this removes an element"
   ]
  },
  {
   "cell_type": "code",
   "execution_count": 27,
   "id": "87a8c84c",
   "metadata": {},
   "outputs": [
    {
     "data": {
      "text/plain": [
       "['1stindex', 2, 3, 'Naga', 10.95, 'Navya', [9, 10, 11], 9, 10, 11]"
      ]
     },
     "execution_count": 27,
     "metadata": {},
     "output_type": "execute_result"
    }
   ],
   "source": [
    "li"
   ]
  },
  {
   "cell_type": "code",
   "execution_count": 28,
   "id": "21f95c5d",
   "metadata": {},
   "outputs": [
    {
     "data": {
      "text/plain": [
       "10.95"
      ]
     },
     "execution_count": 28,
     "metadata": {},
     "output_type": "execute_result"
    }
   ],
   "source": [
    "li.pop(4) #removes element at the index 4"
   ]
  },
  {
   "cell_type": "code",
   "execution_count": 29,
   "id": "06fd9971",
   "metadata": {},
   "outputs": [
    {
     "data": {
      "text/plain": [
       "['1stindex', 2, 3, 'Naga', 'Navya', [9, 10, 11], 9, 10, 11]"
      ]
     },
     "execution_count": 29,
     "metadata": {},
     "output_type": "execute_result"
    }
   ],
   "source": [
    "li"
   ]
  },
  {
   "cell_type": "code",
   "execution_count": 30,
   "id": "b28c1d7c",
   "metadata": {},
   "outputs": [
    {
     "data": {
      "text/plain": [
       "9"
      ]
     },
     "execution_count": 30,
     "metadata": {},
     "output_type": "execute_result"
    }
   ],
   "source": [
    "len(li) #length of elements"
   ]
  },
  {
   "cell_type": "markdown",
   "id": "faf18ca7",
   "metadata": {},
   "source": [
    "# How lists are stored"
   ]
  },
  {
   "cell_type": "code",
   "execution_count": null,
   "id": "da90398a",
   "metadata": {},
   "outputs": [],
   "source": [
    "# list stores references of the elements that is why we are able to store diff data types in lists\n",
    "# references are stored continously\n",
    "# list performs resizing to maintain continuity"
   ]
  },
  {
   "cell_type": "markdown",
   "id": "3791e2c0",
   "metadata": {},
   "source": [
    "# Looping on lists"
   ]
  },
  {
   "cell_type": "code",
   "execution_count": 33,
   "id": "baea9da2",
   "metadata": {},
   "outputs": [
    {
     "data": {
      "text/plain": [
       "[1, 2, 'naga', 9, 10, 11]"
      ]
     },
     "execution_count": 33,
     "metadata": {},
     "output_type": "execute_result"
    }
   ],
   "source": [
    "li = [1,2,\"naga\",9,10,11]\n",
    "li"
   ]
  },
  {
   "cell_type": "markdown",
   "id": "a9736e7e",
   "metadata": {},
   "source": [
    "# Method 1"
   ]
  },
  {
   "cell_type": "code",
   "execution_count": 34,
   "id": "a35b9c60",
   "metadata": {},
   "outputs": [
    {
     "name": "stdout",
     "output_type": "stream",
     "text": [
      "1\n",
      "2\n",
      "naga\n",
      "9\n",
      "10\n",
      "11\n"
     ]
    }
   ],
   "source": [
    "for i in range (len(li)):\n",
    "    print(li[i])"
   ]
  },
  {
   "cell_type": "code",
   "execution_count": 35,
   "id": "4d294ad7",
   "metadata": {},
   "outputs": [
    {
     "name": "stdout",
     "output_type": "stream",
     "text": [
      "naga\n",
      "9\n",
      "10\n",
      "11\n"
     ]
    }
   ],
   "source": [
    "for i in range (2,len(li)):\n",
    "    print(li[i])"
   ]
  },
  {
   "cell_type": "markdown",
   "id": "4109776b",
   "metadata": {},
   "source": [
    "# Method 2"
   ]
  },
  {
   "cell_type": "code",
   "execution_count": 36,
   "id": "29328087",
   "metadata": {},
   "outputs": [
    {
     "name": "stdout",
     "output_type": "stream",
     "text": [
      "1\n",
      "2\n",
      "naga\n",
      "9\n",
      "10\n",
      "11\n"
     ]
    }
   ],
   "source": [
    "for ele in li:\n",
    "    print(ele)"
   ]
  },
  {
   "cell_type": "code",
   "execution_count": 38,
   "id": "336d2887",
   "metadata": {},
   "outputs": [
    {
     "name": "stdout",
     "output_type": "stream",
     "text": [
      "naga\n",
      "9\n",
      "10\n",
      "11\n"
     ]
    }
   ],
   "source": [
    "for ele in li[2:]:\n",
    "    print(ele)"
   ]
  },
  {
   "cell_type": "code",
   "execution_count": 39,
   "id": "12c3cd12",
   "metadata": {},
   "outputs": [
    {
     "name": "stdout",
     "output_type": "stream",
     "text": [
      "naga\n",
      "9\n"
     ]
    }
   ],
   "source": [
    "for ele in li[2:4]:\n",
    "    print(ele)"
   ]
  },
  {
   "cell_type": "markdown",
   "id": "93025921",
   "metadata": {},
   "source": [
    "## Negative indexing and sequencing"
   ]
  },
  {
   "cell_type": "code",
   "execution_count": 1,
   "id": "ddc80585",
   "metadata": {},
   "outputs": [
    {
     "data": {
      "text/plain": [
       "[1, 2, 3, 4, 5]"
      ]
     },
     "execution_count": 1,
     "metadata": {},
     "output_type": "execute_result"
    }
   ],
   "source": [
    "li = [1,2,3,4,5]\n",
    "li"
   ]
  },
  {
   "cell_type": "code",
   "execution_count": 2,
   "id": "e9a0a4a8",
   "metadata": {},
   "outputs": [
    {
     "data": {
      "text/plain": [
       "5"
      ]
     },
     "execution_count": 2,
     "metadata": {},
     "output_type": "execute_result"
    }
   ],
   "source": [
    "li[-1]"
   ]
  },
  {
   "cell_type": "code",
   "execution_count": 4,
   "id": "3c83d7f8",
   "metadata": {},
   "outputs": [
    {
     "data": {
      "text/plain": [
       "4"
      ]
     },
     "execution_count": 4,
     "metadata": {},
     "output_type": "execute_result"
    }
   ],
   "source": [
    "li[-2]"
   ]
  },
  {
   "cell_type": "code",
   "execution_count": 6,
   "id": "6dd1536b",
   "metadata": {},
   "outputs": [
    {
     "data": {
      "text/plain": [
       "[3, 4]"
      ]
     },
     "execution_count": 6,
     "metadata": {},
     "output_type": "execute_result"
    }
   ],
   "source": [
    "li[2:4:1] #start, stop, step"
   ]
  },
  {
   "cell_type": "code",
   "execution_count": 7,
   "id": "8618da83",
   "metadata": {},
   "outputs": [
    {
     "data": {
      "text/plain": [
       "[2, 4]"
      ]
     },
     "execution_count": 7,
     "metadata": {},
     "output_type": "execute_result"
    }
   ],
   "source": [
    "li[1:5:2]"
   ]
  },
  {
   "cell_type": "code",
   "execution_count": 8,
   "id": "dba59e46",
   "metadata": {},
   "outputs": [
    {
     "data": {
      "text/plain": [
       "[2, 4]"
      ]
     },
     "execution_count": 8,
     "metadata": {},
     "output_type": "execute_result"
    }
   ],
   "source": [
    "li[1::2]"
   ]
  },
  {
   "cell_type": "code",
   "execution_count": 9,
   "id": "990c64be",
   "metadata": {},
   "outputs": [
    {
     "data": {
      "text/plain": [
       "[5]"
      ]
     },
     "execution_count": 9,
     "metadata": {},
     "output_type": "execute_result"
    }
   ],
   "source": [
    "li[-1:]"
   ]
  },
  {
   "cell_type": "code",
   "execution_count": 10,
   "id": "d2729014",
   "metadata": {},
   "outputs": [
    {
     "data": {
      "text/plain": [
       "[3, 4]"
      ]
     },
     "execution_count": 10,
     "metadata": {},
     "output_type": "execute_result"
    }
   ],
   "source": [
    "li[-3:-1]"
   ]
  },
  {
   "cell_type": "markdown",
   "id": "d1183ad7",
   "metadata": {},
   "source": [
    "# Input in a list"
   ]
  },
  {
   "cell_type": "code",
   "execution_count": 19,
   "id": "34ee3766",
   "metadata": {},
   "outputs": [
    {
     "name": "stdout",
     "output_type": "stream",
     "text": [
      "4\n",
      "1\n",
      "2\n",
      "3\n",
      "4\n"
     ]
    }
   ],
   "source": [
    "n = int(input())\n",
    "\n",
    "li = []\n",
    "for i in range(n):\n",
    "    curr = int(input())\n",
    "    li.append(curr)"
   ]
  },
  {
   "cell_type": "code",
   "execution_count": 20,
   "id": "35236a13",
   "metadata": {},
   "outputs": [
    {
     "data": {
      "text/plain": [
       "[1, 2, 3, 4]"
      ]
     },
     "execution_count": 20,
     "metadata": {},
     "output_type": "execute_result"
    }
   ],
   "source": [
    "li"
   ]
  },
  {
   "cell_type": "code",
   "execution_count": 25,
   "id": "406ead95",
   "metadata": {},
   "outputs": [
    {
     "name": "stdout",
     "output_type": "stream",
     "text": [
      "3\n",
      "1 2 3\n",
      "1\n",
      "2\n",
      "3\n"
     ]
    }
   ],
   "source": [
    "n = int(input())\n",
    "li = [int(x) for x in input().split()]\n",
    "for ele in li:\n",
    "    print(ele)"
   ]
  },
  {
   "cell_type": "markdown",
   "id": "a16a5ea7",
   "metadata": {},
   "source": [
    "# Practice problem"
   ]
  },
  {
   "cell_type": "code",
   "execution_count": 43,
   "id": "8c146926",
   "metadata": {},
   "outputs": [
    {
     "name": "stdout",
     "output_type": "stream",
     "text": [
      "3\n",
      "9 8 9\n",
      "26\n"
     ]
    }
   ],
   "source": [
    "# Given an array of length N, you need to find and print the sum of all elements of the array.\n",
    "n = int(input())\n",
    "li = [int(x) for x in input().split()]\n",
    "Sum = sum(li)\n",
    "print(Sum)"
   ]
  },
  {
   "cell_type": "code",
   "execution_count": null,
   "id": "868805a0",
   "metadata": {},
   "outputs": [],
   "source": []
  }
 ],
 "metadata": {
  "kernelspec": {
   "display_name": "Python 3",
   "language": "python",
   "name": "python3"
  }
 },
 "nbformat": 4,
 "nbformat_minor": 5
}
