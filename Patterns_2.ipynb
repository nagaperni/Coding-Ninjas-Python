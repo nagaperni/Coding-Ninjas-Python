{
 "cells": [
  {
   "cell_type": "markdown",
   "id": "4c3d512e",
   "metadata": {},
   "source": [
    "# Inverted triangle"
   ]
  },
  {
   "cell_type": "code",
   "execution_count": 4,
   "id": "336a1627",
   "metadata": {},
   "outputs": [
    {
     "name": "stdout",
     "output_type": "stream",
     "text": [
      "4\n",
      "****\n",
      "***\n",
      "**\n",
      "*\n"
     ]
    }
   ],
   "source": [
    "# ****\n",
    "# ***\n",
    "# **\n",
    "# *\n",
    "\n",
    "n = int(input())\n",
    "i = 1\n",
    "while i <= n:\n",
    "    j = 1\n",
    "    while j <= (n - i + 1):\n",
    "        print(\"*\", end=\"\")\n",
    "        j = j + 1\n",
    "    print()\n",
    "    i = i + 1"
   ]
  },
  {
   "cell_type": "markdown",
   "id": "5e0e3330",
   "metadata": {},
   "source": [
    "# Inverted number pattern"
   ]
  },
  {
   "cell_type": "code",
   "execution_count": null,
   "id": "54883c7a",
   "metadata": {},
   "outputs": [],
   "source": []
  },
  {
   "cell_type": "code",
   "execution_count": 19,
   "id": "a0fbc3e5",
   "metadata": {},
   "outputs": [
    {
     "name": "stdout",
     "output_type": "stream",
     "text": [
      "4\n",
      "4444\n",
      "333\n",
      "22\n",
      "1\n"
     ]
    }
   ],
   "source": [
    "# 4444\n",
    "# 333\n",
    "# 22\n",
    "# 1\n",
    "\n",
    "n = int(input())\n",
    "i = 1\n",
    "while i <= n:\n",
    "    j = 1\n",
    "    \n",
    "    while j <= (n - i + 1):\n",
    "        print(n - i + 1, end = \"\")\n",
    "        j = j + 1\n",
    "        \n",
    "    print()\n",
    "    i = i + 1"
   ]
  },
  {
   "cell_type": "markdown",
   "id": "95dfd6c5",
   "metadata": {},
   "source": [
    "# Reversed pattern"
   ]
  },
  {
   "cell_type": "code",
   "execution_count": 21,
   "id": "c2e0c8b8",
   "metadata": {},
   "outputs": [
    {
     "name": "stdout",
     "output_type": "stream",
     "text": [
      "4\n",
      "   *\n",
      "  **\n",
      " ***\n",
      "****\n"
     ]
    }
   ],
   "source": [
    "#    *\n",
    "#   **\n",
    "#  ***\n",
    "# ****\n",
    "\n",
    "n = int(input())\n",
    "i = 1\n",
    "while i <= n:\n",
    "    spaces = 1\n",
    "    while spaces <= (n - i):\n",
    "        print(\" \", end = \"\")\n",
    "        spaces = spaces + 1\n",
    "    stars = 1\n",
    "    while stars <= i:\n",
    "        print(\"*\", end = \"\")\n",
    "        stars = stars + 1\n",
    "    print()\n",
    "    i = i + 1"
   ]
  },
  {
   "cell_type": "code",
   "execution_count": 27,
   "id": "3408fd1f",
   "metadata": {},
   "outputs": [
    {
     "name": "stdout",
     "output_type": "stream",
     "text": [
      "4\n",
      "   1\n",
      "  12\n",
      " 123\n",
      "1234\n"
     ]
    }
   ],
   "source": [
    "#    1\n",
    "#   12\n",
    "#  123\n",
    "# 1234\n",
    "\n",
    "\n",
    "n = int(input())\n",
    "i = 1\n",
    "while i <= n:\n",
    "    \n",
    "    spaces = 1\n",
    "    while spaces <= (n - i):\n",
    "        print(\" \", end = \"\")\n",
    "        spaces = spaces + 1\n",
    "    \n",
    "    j = 1\n",
    "    while j <= i:\n",
    "        print(j, end = \"\")\n",
    "        j = j + 1\n",
    "    \n",
    "    print()\n",
    "    i = i + 1"
   ]
  },
  {
   "cell_type": "code",
   "execution_count": 28,
   "id": "afa74dd8",
   "metadata": {},
   "outputs": [
    {
     "name": "stdout",
     "output_type": "stream",
     "text": [
      "4\n",
      "   1\n",
      "  121\n",
      " 12321\n",
      "1234321\n"
     ]
    }
   ],
   "source": [
    "#    1\n",
    "#   121\n",
    "#  12321\n",
    "# 1234321\n",
    "\n",
    "n = int(input())\n",
    "i = 1\n",
    "while i <= n:\n",
    "    \n",
    "    spaces = 1\n",
    "    while spaces <= (n - i):\n",
    "        print(\" \", end = \"\")\n",
    "        spaces = spaces + 1\n",
    "    \n",
    "    j = 1\n",
    "    while j <= i:\n",
    "        print(j, end = \"\")\n",
    "        j = j + 1\n",
    "    \n",
    "    j = i - 1\n",
    "    while j >= 1:\n",
    "        print(j, end = \"\")\n",
    "        j = j -1\n",
    "    print()\n",
    "    i = i + 1"
   ]
  },
  {
   "cell_type": "code",
   "execution_count": 31,
   "id": "a078c9c9",
   "metadata": {},
   "outputs": [
    {
     "name": "stdout",
     "output_type": "stream",
     "text": [
      "4\n",
      "   *\n",
      "  ***\n",
      " *****\n",
      "*******\n"
     ]
    }
   ],
   "source": [
    "#    *\n",
    "#   ***\n",
    "#  *****\n",
    "# *******\n",
    "\n",
    "n = int(input())\n",
    "i = 1\n",
    "\n",
    "while i <= n:\n",
    "    \n",
    "    space = 1\n",
    "    while space <= (n - i):\n",
    "        print(\" \", end=\"\")\n",
    "        space = space + 1\n",
    "    \n",
    "    j = 1\n",
    "    while j <= i:\n",
    "        print(\"*\", end=\"\")\n",
    "        j = j + 1\n",
    "    \n",
    "    j = i - 1\n",
    "    while j >= 1:\n",
    "        print(\"*\", end=\"\")\n",
    "        j = j -1\n",
    "    \n",
    "    print()\n",
    "    i = i + 1"
   ]
  },
  {
   "cell_type": "code",
   "execution_count": 56,
   "id": "d90e9477",
   "metadata": {},
   "outputs": [
    {
     "name": "stdout",
     "output_type": "stream",
     "text": [
      "4\n",
      "   1\n",
      "  22\n",
      " 333\n",
      "4444\n"
     ]
    }
   ],
   "source": [
    "#     1\n",
    "#    232\n",
    "#   34543\n",
    "#  4567654 \n",
    "\n",
    "n = int(input())\n",
    "i = 1\n",
    "\n",
    "while i <= n:\n",
    "    #spaces\n",
    "    space = 1\n",
    "    while space <= (n - i):\n",
    "        print(\" \", end=\"\")\n",
    "        space = space + 1\n",
    "    \n",
    "    #increasing numbers\n",
    "    j = 1\n",
    "    while j <= i:\n",
    "        print(i, end=\"\")\n",
    "        j = j + 1\n",
    "       \n",
    "    #decreasing numbers\n",
    "    \n",
    "    print()\n",
    "    i = i + 1\n"
   ]
  },
  {
   "cell_type": "code",
   "execution_count": null,
   "id": "397d43e8",
   "metadata": {},
   "outputs": [],
   "source": []
  }
 ],
 "metadata": {
  "kernelspec": {
   "display_name": "Python 3",
   "language": "python",
   "name": "python3"
  },
  "language_info": {
   "codemirror_mode": {
    "name": "ipython",
    "version": 3
   },
   "file_extension": ".py",
   "mimetype": "text/x-python",
   "name": "python",
   "nbconvert_exporter": "python",
   "pygments_lexer": "ipython3",
   "version": "3.8.8"
  }
 },
 "nbformat": 4,
 "nbformat_minor": 5
}
