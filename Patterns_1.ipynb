{
 "cells": [
  {
   "cell_type": "code",
   "execution_count": null,
   "id": "955992ff",
   "metadata": {},
   "outputs": [],
   "source": [
    "Approach to patterns\n",
    "\n",
    "1. How many rows? N\n",
    "2. How many columns to print for ith row? i\n",
    "3. What to print?"
   ]
  },
  {
   "cell_type": "markdown",
   "id": "814800e2",
   "metadata": {},
   "source": [
    "# print pattern"
   ]
  },
  {
   "cell_type": "code",
   "execution_count": null,
   "id": "fcd81081",
   "metadata": {},
   "outputs": [],
   "source": [
    "n = int(input())\n",
    "i = 1\n",
    "while i <= n:\n",
    "    j = 1\n",
    "    while j <= n:\n",
    "        print(\"*\",end=\"\")\n",
    "        j = j + 1\n",
    "    print()\n",
    "    i = i + 1\n",
    "    "
   ]
  },
  {
   "cell_type": "code",
   "execution_count": null,
   "id": "830c8761",
   "metadata": {},
   "outputs": [],
   "source": [
    "n = int(input())\n",
    "i = 1\n",
    "\n",
    "while i <= n:\n",
    "    j = 1\n",
    "    while j <= n:\n",
    "        print(n,end=\"\")\n",
    "        j = j + 1\n",
    "    print()\n",
    "    i = i + 1"
   ]
  },
  {
   "cell_type": "markdown",
   "id": "13960ea1",
   "metadata": {},
   "source": [
    "# square patterns"
   ]
  },
  {
   "cell_type": "code",
   "execution_count": null,
   "id": "3c0b5a02",
   "metadata": {},
   "outputs": [],
   "source": [
    "# 1111\n",
    "# 2222\n",
    "# 3333\n",
    "# 4444\n",
    "\n",
    "n = int(input())\n",
    "i = 1\n",
    "\n",
    "while i <= n:\n",
    "    j = 1\n",
    "    while j <= n:\n",
    "        print(i,end=\"\")\n",
    "        j = j + 1\n",
    "    print()\n",
    "    i = i + 1"
   ]
  },
  {
   "cell_type": "code",
   "execution_count": null,
   "id": "e9d38c90",
   "metadata": {},
   "outputs": [],
   "source": [
    "# 1234\n",
    "# 1234\n",
    "# 1234\n",
    "# 1234\n",
    "\n",
    "n = int(input())\n",
    "i = 1\n",
    "\n",
    "while i <= n:\n",
    "    j = 1\n",
    "    while j <= n:\n",
    "        print(j,end=\"\")\n",
    "        j = j + 1\n",
    "    print()\n",
    "    i = i + 1"
   ]
  },
  {
   "cell_type": "code",
   "execution_count": null,
   "id": "3bfe4c72",
   "metadata": {},
   "outputs": [],
   "source": [
    "# 4321\n",
    "# 4321\n",
    "# 4321\n",
    "# 4321\n",
    "\n",
    "n = int(input())\n",
    "i = 1\n",
    "\n",
    "while i <= n:\n",
    "    j = 1\n",
    "    while j <= n:\n",
    "        print(n-j + 1,end=\"\")\n",
    "        j = j + 1\n",
    "    print()\n",
    "    i = i + 1"
   ]
  },
  {
   "cell_type": "markdown",
   "id": "72d4ce6a",
   "metadata": {},
   "source": [
    "# trinagle patterns"
   ]
  },
  {
   "cell_type": "code",
   "execution_count": null,
   "id": "5ee5e1fd",
   "metadata": {},
   "outputs": [],
   "source": [
    "# 1\n",
    "# 12\n",
    "# 123\n",
    "# 1234\n",
    "\n",
    "n = int(input())\n",
    "i = 1\n",
    "\n",
    "while i <= n:\n",
    "    j = 1\n",
    "    while j <= i:\n",
    "        print(j,end=\"\")\n",
    "        j = j + 1\n",
    "    print()\n",
    "    i = i + 1"
   ]
  },
  {
   "cell_type": "code",
   "execution_count": null,
   "id": "a3a30d4e",
   "metadata": {},
   "outputs": [],
   "source": [
    "# 1\n",
    "# 23\n",
    "# 345\n",
    "# 4567\n",
    "\n",
    "n = int(input())\n",
    "i = 1\n",
    "\n",
    "while i <= n:\n",
    "    j = 1\n",
    "    p = i\n",
    "    while j <= i:\n",
    "        print(p,end=\"\")\n",
    "        j = j + 1\n",
    "        p = p + 1\n",
    "    print()\n",
    "    i = i + 1"
   ]
  },
  {
   "cell_type": "code",
   "execution_count": null,
   "id": "cdcadd37",
   "metadata": {},
   "outputs": [],
   "source": [
    "# 1\n",
    "# 23\n",
    "# 456\n",
    "# 78910\n",
    "\n",
    "n = int(input())\n",
    "i = 1\n",
    "p = 1\n",
    "\n",
    "while i <= n:\n",
    "    j = 1\n",
    "    while j <= i:\n",
    "        print(p,end=\"\")\n",
    "        p = p + 1\n",
    "        j = j + 1     \n",
    "    print()\n",
    "    i = i + 1"
   ]
  },
  {
   "cell_type": "code",
   "execution_count": null,
   "id": "aad5ee2d",
   "metadata": {},
   "outputs": [],
   "source": [
    "# 1\n",
    "# 22\n",
    "# 333\n",
    "# 4444\n",
    "\n",
    "n = int(input())\n",
    "i = 1\n",
    "while i <= n:\n",
    "    j = 1\n",
    "    while j <= i:\n",
    "        print(i, end = \"\")\n",
    "        j = j + 1\n",
    "    print(\"\")\n",
    "    i = i + 1"
   ]
  },
  {
   "cell_type": "code",
   "execution_count": null,
   "id": "9f33416a",
   "metadata": {},
   "outputs": [],
   "source": [
    "# 1\n",
    "# 21\n",
    "# 321\n",
    "# 4321\n",
    "\n",
    "# rows = n\n",
    "# columns = ith row\n",
    "# print = \n",
    "\n",
    "\n",
    "n = int(input())\n",
    "i = 1\n",
    "\n",
    "while i <= n:\n",
    "    j = 1\n",
    "    p = i\n",
    "    while j <= i:\n",
    "        print(p,end=\"\")\n",
    "        j = j + 1\n",
    "        p = p - 1\n",
    "    print()\n",
    "    i = i + 1"
   ]
  },
  {
   "cell_type": "markdown",
   "id": "af282c11",
   "metadata": {},
   "source": [
    "# char pattern"
   ]
  },
  {
   "cell_type": "code",
   "execution_count": null,
   "id": "51c39d0b",
   "metadata": {},
   "outputs": [],
   "source": [
    "# ABCD\n",
    "# ABCD\n",
    "# ABCD\n",
    "# ABCD\n",
    "\n",
    "#rows = n\n",
    "#columns = n\n",
    "#print = A + j-1\n",
    "\n",
    "#print kth alphabet\n",
    "# A + K - 1\n",
    "# ord(\"A\") #gives ascii value of the char\n",
    "# chr(65) #gives character value of the ascii value\n",
    "\n",
    "n = int(input())\n",
    "i = 1\n",
    "while i <= n:\n",
    "    j = 1\n",
    "    while j <= n:\n",
    "        charP = chr(ord('A') + j - 1)\n",
    "        print(charP, end = \"\")\n",
    "        j = j + 1\n",
    "    print(\"\")\n",
    "    i = i + 1"
   ]
  },
  {
   "cell_type": "code",
   "execution_count": null,
   "id": "aefd7212",
   "metadata": {},
   "outputs": [],
   "source": [
    "# ABCD\n",
    "# BCDE\n",
    "# CDEF\n",
    "# DEFG\n",
    "\n",
    "\n",
    "n = int(input())\n",
    "i = 1\n",
    "while i <= n:\n",
    "    j = 1\n",
    "    startC = chr(ord(\"A\") + i - 1)\n",
    "    while j <= n:\n",
    "        charP = chr(ord(startC) + j - 1)\n",
    "        print(charP, end = \"\")\n",
    "        j = j + 1\n",
    "    print(\"\")\n",
    "    i = i + 1\n",
    "    \n"
   ]
  },
  {
   "cell_type": "code",
   "execution_count": null,
   "id": "ed090beb",
   "metadata": {},
   "outputs": [],
   "source": [
    "# A\n",
    "# BC\n",
    "# CDE\n",
    "# DEFG\n",
    "\n",
    "n = int(input())\n",
    "i = 1\n",
    "while i <= n:\n",
    "    j = 1\n",
    "    startC = chr(ord(\"A\") + i - 1)\n",
    "    while j <= i:\n",
    "        charP = chr(ord(startC) + j - 1)\n",
    "        print(charP, end = \"\")\n",
    "        j = j + 1\n",
    "    print(\"\")\n",
    "    i = i + 1\n",
    "    \n"
   ]
  },
  {
   "cell_type": "code",
   "execution_count": 94,
   "id": "f49aaefa",
   "metadata": {},
   "outputs": [
    {
     "name": "stdout",
     "output_type": "stream",
     "text": [
      "7\n",
      "G\n",
      "GH\n",
      "GHI\n",
      "GHIJ\n",
      "GHIJK\n",
      "GHIJKL\n",
      "GHIJKLM\n"
     ]
    }
   ],
   "source": [
    "# E\n",
    "# DE\n",
    "# CDE\n",
    "# BCDE\n",
    "# ABCDE\n",
    "\n",
    "\n",
    "n = int(input())\n",
    "i = 1\n",
    "while i <= n:\n",
    "    j = 1\n",
    "    startC = ord(\"A\") + n - i\n",
    "    while j <= i:\n",
    "        print(chr(startC + j - 1), end = \"\") \n",
    "        j = j + 1\n",
    "    print()\n",
    "    i = i + 1"
   ]
  },
  {
   "cell_type": "code",
   "execution_count": 100,
   "id": "68d668c7",
   "metadata": {},
   "outputs": [
    {
     "name": "stdout",
     "output_type": "stream",
     "text": [
      "7\n",
      "G\n",
      "FG\n",
      "EFG\n",
      "DEFG\n",
      "CDEFG\n",
      "BCDEFG\n",
      "ABCDEFG\n"
     ]
    }
   ],
   "source": [
    "n = int(input())\n",
    "i = 1\n",
    "while i <= n:\n",
    "    j = 1\n",
    "    startC = ord(\"A\") + n - i\n",
    "    while j <= i:\n",
    "        print(chr(startC+j-1), end = \"\") \n",
    "        j = j + 1\n",
    "    print()\n",
    "    i = i + 1"
   ]
  },
  {
   "cell_type": "code",
   "execution_count": 103,
   "id": "31122b77",
   "metadata": {},
   "outputs": [
    {
     "name": "stdout",
     "output_type": "stream",
     "text": [
      "4\n",
      "1\n",
      "11\n",
      "111\n",
      "1111\n"
     ]
    }
   ],
   "source": [
    "# 1\n",
    "# 11\n",
    "# 111\n",
    "# 1111\n",
    "\n",
    "\n",
    "n = int(input())\n",
    "i = 1\n",
    "while i <= n:\n",
    "    j = 1\n",
    "    while j <= i:\n",
    "        print(1, end =\"\")\n",
    "        j = j + 1\n",
    "    print()\n",
    "    i = i + 1"
   ]
  },
  {
   "cell_type": "code",
   "execution_count": 110,
   "id": "fa6de20f",
   "metadata": {},
   "outputs": [
    {
     "name": "stdout",
     "output_type": "stream",
     "text": [
      "4\n",
      "1\n",
      "11\n",
      "202\n",
      "3003\n"
     ]
    }
   ],
   "source": [
    "# 1\n",
    "# 11\n",
    "# 202\n",
    "# 3003\n",
    "\n",
    "\n",
    "n = int(input())\n",
    "i = 1\n",
    "while i <= n:\n",
    "    j = 1\n",
    "    while j <= i:\n",
    "        if i <= 2:\n",
    "            print(\"1\",end =\"\")\n",
    "            \n",
    "        elif i > 2:\n",
    "            if j == 1 or j == i:\n",
    "                print(i - 1, end = \"\")\n",
    "                \n",
    "            else:\n",
    "                print(\"0\", end = \"\")\n",
    "                \n",
    "        j = j + 1\n",
    "                \n",
    "    print()\n",
    "    i = i + 1"
   ]
  },
  {
   "cell_type": "code",
   "execution_count": 5,
   "id": "fa7af55d",
   "metadata": {},
   "outputs": [
    {
     "name": "stdout",
     "output_type": "stream",
     "text": [
      "4\n",
      "1\n",
      "11\n",
      "121\n",
      "1221\n"
     ]
    }
   ],
   "source": [
    "# 1\n",
    "# 11\n",
    "# 121\n",
    "# 1221\n",
    "\n",
    "n = int(input())\n",
    "i = 1\n",
    "\n",
    "while i <= n:\n",
    "    j = 1\n",
    "    while j <= i:\n",
    "        if i <= 2:\n",
    "            print(\"1\",end =\"\") \n",
    "            \n",
    "        elif i > 2:\n",
    "            if j == 1 or j == i:\n",
    "                print(\"1\", end = \"\")\n",
    "                \n",
    "            else:\n",
    "                print(\"2\", end = \"\")\n",
    "        j = j + 1\n",
    "    print()\n",
    "    i = i + 1\n",
    "\n"
   ]
  },
  {
   "cell_type": "code",
   "execution_count": 8,
   "id": "aef1e291",
   "metadata": {},
   "outputs": [
    {
     "name": "stdout",
     "output_type": "stream",
     "text": [
      "4\n",
      "1234\n",
      "123\n",
      "12\n",
      "1\n"
     ]
    }
   ],
   "source": [
    "# 1234\n",
    "# 123\n",
    "# 12\n",
    "# 1\n",
    "\n",
    "n = int(input())\n",
    "i = 1\n",
    "while i <= n:\n",
    "    j = 1\n",
    "    while j <= (n - i + 1):\n",
    "        print(j, end=\"\")\n",
    "        j = j + 1\n",
    "    print()\n",
    "    i = i + 1"
   ]
  },
  {
   "cell_type": "code",
   "execution_count": 11,
   "id": "37a4219b",
   "metadata": {},
   "outputs": [
    {
     "name": "stdout",
     "output_type": "stream",
     "text": [
      "3\n",
      "A\n",
      "BB\n",
      "CCC\n"
     ]
    }
   ],
   "source": [
    "#  A\n",
    "#  BB\n",
    "#  CCC\n",
    "\n",
    "n = int(input())\n",
    "i = 1\n",
    "while i <= n:\n",
    "    j = 1\n",
    "    startC = chr(ord(\"A\") + i - 1)\n",
    "    while j <= i:\n",
    "        print(startC,end=\"\")\n",
    "        j = j + 1\n",
    "    print()\n",
    "    i = i + 1"
   ]
  },
  {
   "cell_type": "code",
   "execution_count": null,
   "id": "7f97dade",
   "metadata": {},
   "outputs": [],
   "source": []
  }
 ],
 "metadata": {
  "kernelspec": {
   "display_name": "Python 3",
   "language": "python",
   "name": "python3"
  },
  "language_info": {
   "codemirror_mode": {
    "name": "ipython",
    "version": 3
   },
   "file_extension": ".py",
   "mimetype": "text/x-python",
   "name": "python",
   "nbconvert_exporter": "python",
   "pygments_lexer": "ipython3",
   "version": "3.8.8"
  }
 },
 "nbformat": 4,
 "nbformat_minor": 5
}
