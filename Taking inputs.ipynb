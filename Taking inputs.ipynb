{
 "cells": [
  {
   "cell_type": "markdown",
   "id": "567c60e1",
   "metadata": {},
   "source": [
    "Simple interest"
   ]
  },
  {
   "cell_type": "code",
   "execution_count": 17,
   "id": "f6418f69",
   "metadata": {
    "scrolled": true
   },
   "outputs": [
    {
     "name": "stdout",
     "output_type": "stream",
     "text": [
      "Enter principal amount:\n",
      "100\n",
      "Enter rate:\n",
      "12\n",
      "Enter duration:\n",
      "2\n",
      "Your simple interest is: 24\n"
     ]
    }
   ],
   "source": [
    "#calculate simple interest to lower integer\n",
    "print('Enter principal amount:')\n",
    "p = int(input())\n",
    "print('Enter rate:')\n",
    "r = int(input())\n",
    "print('Enter duration:')\n",
    "t = int(input())\n",
    "\n",
    "si = (p * r * t)//100\n",
    "print('Your simple interest is:',si)"
   ]
  },
  {
   "cell_type": "markdown",
   "id": "4262022f",
   "metadata": {},
   "source": [
    "F to C conversion"
   ]
  },
  {
   "cell_type": "code",
   "execution_count": 22,
   "id": "6a64b834",
   "metadata": {},
   "outputs": [
    {
     "name": "stdout",
     "output_type": "stream",
     "text": [
      "Enter Temp in F:\n",
      "100\n",
      "Temp in C is: 37.77777777777778\n"
     ]
    }
   ],
   "source": [
    "print('Enter Temp in F:')\n",
    "f = int(input())\n",
    "c = (f - 32) * 5/9\n",
    "\n",
    "print('Temp in C is:',c)"
   ]
  },
  {
   "cell_type": "markdown",
   "id": "6d532c3c",
   "metadata": {},
   "source": [
    "Find average Marks"
   ]
  },
  {
   "cell_type": "code",
   "execution_count": null,
   "id": "1a62d936",
   "metadata": {},
   "outputs": [],
   "source": [
    "t1 = int(input())\n",
    "t2 = int(input())\n",
    "t3 = int(input())\n",
    "\n",
    "avg = (t1 + t2 + t3) / 3\n",
    "print(avg)"
   ]
  },
  {
   "cell_type": "markdown",
   "id": "40c5ab5e",
   "metadata": {},
   "source": [
    "Find X raised to power N"
   ]
  },
  {
   "cell_type": "code",
   "execution_count": 23,
   "id": "6e598525",
   "metadata": {},
   "outputs": [
    {
     "name": "stdout",
     "output_type": "stream",
     "text": [
      "10\n",
      "4\n",
      "10000\n"
     ]
    }
   ],
   "source": [
    "x = int(input())\n",
    "n = int(input())\n",
    "\n",
    "pwr = x ** n\n",
    "print(pwr)"
   ]
  },
  {
   "cell_type": "code",
   "execution_count": null,
   "id": "6e5edb40",
   "metadata": {},
   "outputs": [],
   "source": []
  }
 ],
 "metadata": {
  "kernelspec": {
   "display_name": "Python 3",
   "language": "python",
   "name": "python3"
  },
  "language_info": {
   "codemirror_mode": {
    "name": "ipython",
    "version": 3
   },
   "file_extension": ".py",
   "mimetype": "text/x-python",
   "name": "python",
   "nbconvert_exporter": "python",
   "pygments_lexer": "ipython3",
   "version": "3.8.8"
  }
 },
 "nbformat": 4,
 "nbformat_minor": 5
}
