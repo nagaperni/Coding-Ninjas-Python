{
 "cells": [
  {
   "cell_type": "markdown",
   "id": "e6a0ed54",
   "metadata": {},
   "source": [
    "Simple interest"
   ]
  },
  {
   "cell_type": "code",
   "execution_count": 17,
   "id": "7b391de2",
   "metadata": {
    "scrolled": true
   },
   "outputs": [
    {
     "name": "stdout",
     "output_type": "stream",
     "text": [
      "Enter principal amount:\n",
      "100\n",
      "Enter rate:\n",
      "12\n",
      "Enter duration:\n",
      "2\n",
      "Your simple interest is: 24\n"
     ]
    }
   ],
   "source": [
    "#calculate simple interest to lower integer\n",
    "print('Enter principal amount:')\n",
    "p = int(input())\n",
    "print('Enter rate:')\n",
    "r = int(input())\n",
    "print('Enter duration:')\n",
    "t = int(input())\n",
    "\n",
    "si = (p * r * t)//100\n",
    "print('Your simple interest is:',si)"
   ]
  },
  {
   "cell_type": "markdown",
   "id": "9eb72e70",
   "metadata": {},
   "source": [
    "F to C conversion"
   ]
  },
  {
   "cell_type": "code",
   "execution_count": 22,
   "id": "4f2037ba",
   "metadata": {},
   "outputs": [
    {
     "name": "stdout",
     "output_type": "stream",
     "text": [
      "Enter Temp in F:\n",
      "100\n",
      "Temp in C is: 37.77777777777778\n"
     ]
    }
   ],
   "source": [
    "print('Enter Temp in F:')\n",
    "f = int(input())\n",
    "c = (f - 32) * 5/9\n",
    "\n",
    "print('Temp in C is:',c)"
   ]
  },
  {
   "cell_type": "markdown",
   "id": "0f1e908c",
   "metadata": {},
   "source": [
    "Find average Marks"
   ]
  },
  {
   "cell_type": "code",
   "execution_count": null,
   "id": "f8dee636",
   "metadata": {},
   "outputs": [],
   "source": [
    "t1 = int(input())\n",
    "t2 = int(input())\n",
    "t3 = int(input())\n",
    "\n",
    "avg = (t1 + t2 + t3) / 3\n",
    "print(avg)"
   ]
  },
  {
   "cell_type": "markdown",
   "id": "55c44562",
   "metadata": {},
   "source": [
    "Find X raised to power N"
   ]
  },
  {
   "cell_type": "code",
   "execution_count": 23,
   "id": "e5cc8a15",
   "metadata": {},
   "outputs": [
    {
     "name": "stdout",
     "output_type": "stream",
     "text": [
      "10\n",
      "4\n",
      "10000\n"
     ]
    }
   ],
   "source": [
    "x = int(input())\n",
    "n = int(input())\n",
    "\n",
    "pwr = x ** n\n",
    "print(pwr)"
   ]
  },
  {
   "cell_type": "markdown",
   "id": "8e6fc28e",
   "metadata": {},
   "source": [
    "Arithmetic Progression"
   ]
  },
  {
   "cell_type": "code",
   "execution_count": null,
   "id": "85aa77ad",
   "metadata": {},
   "outputs": [],
   "source": [
    "#You are given first three entries of an arithmetic progression. You have to calculate the common difference and print it\n",
    "\n",
    "i1 = int(input())\n",
    "i2 = int(input())\n",
    "i3 = int(input())\n",
    "\n",
    "dif = i3 - i2\n",
    "print(dif)"
   ]
  },
  {
   "cell_type": "markdown",
   "id": "dfc6598c",
   "metadata": {},
   "source": [
    "Rectangular Area"
   ]
  },
  {
   "cell_type": "code",
   "execution_count": null,
   "id": "ebeadb74",
   "metadata": {},
   "outputs": [],
   "source": [
    "#You are given a rectangle in a plane. The coordinates of one of its diagonals are provided to you. You have to print the total area of the rectangle.\n",
    "#The coordinates of the rectangle are provided as four integral values: x1, y1, x2, y2. It is given that x1 < x2 and y1 < y2.\n",
    "\n",
    "x1 = int(input())\n",
    "y1 = int(input())\n",
    "x2 = int(input())\n",
    "y2 = int(input())\n",
    "\n",
    "area = (x2 - x1) * (y2 - y1)\n",
    "print(area)"
   ]
  }
 ],
 "metadata": {
  "kernelspec": {
   "display_name": "Python 3",
   "language": "python",
   "name": "python3"
  },
  "language_info": {
   "codemirror_mode": {
    "name": "ipython",
    "version": 3
   },
   "file_extension": ".py",
   "mimetype": "text/x-python",
   "name": "python",
   "nbconvert_exporter": "python",
   "pygments_lexer": "ipython3",
   "version": "3.8.8"
  }
 },
 "nbformat": 4,
 "nbformat_minor": 5
}
