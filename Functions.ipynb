{
 "cells": [
  {
   "cell_type": "code",
   "execution_count": null,
   "id": "eedd68ce",
   "metadata": {},
   "outputs": [],
   "source": [
    "#below code is repeated, this should be converted to a function"
   ]
  },
  {
   "cell_type": "code",
   "execution_count": 4,
   "id": "582c5da0",
   "metadata": {},
   "outputs": [
    {
     "name": "stdout",
     "output_type": "stream",
     "text": [
      "4\n",
      "2\n",
      "6\n"
     ]
    }
   ],
   "source": [
    "n = int(input())\n",
    "r = int(input())\n",
    "\n",
    "n_fact = 1\n",
    "for i in range (1, n+1):\n",
    "    n_fact = n_fact * i\n",
    "\n",
    "r_fact = 1\n",
    "for i in range (1, r+1):\n",
    "    r_fact = r_fact * i\n",
    "    \n",
    "n_r_fact = 1\n",
    "for i in range (1, n-r+1):\n",
    "    n_r_fact = n_r_fact * i\n",
    "    \n",
    "ans = n_fact // (r_fact * n_r_fact)\n",
    "print(ans)"
   ]
  },
  {
   "cell_type": "code",
   "execution_count": null,
   "id": "b21e5149",
   "metadata": {},
   "outputs": [],
   "source": [
    "#fucntion of the above code"
   ]
  },
  {
   "cell_type": "code",
   "execution_count": 8,
   "id": "8c200d01",
   "metadata": {},
   "outputs": [],
   "source": [
    "def fact(a):\n",
    "    a_fact = 1\n",
    "    for i in range (1, a+1):\n",
    "        a_fact = a_fact * i\n",
    "    return a_fact"
   ]
  },
  {
   "cell_type": "code",
   "execution_count": 10,
   "id": "cbd4ed09",
   "metadata": {},
   "outputs": [
    {
     "name": "stdout",
     "output_type": "stream",
     "text": [
      "5\n",
      "2\n",
      "10\n"
     ]
    }
   ],
   "source": [
    "n = int(input())\n",
    "r = int(input())\n",
    "n_fact = fact(n)\n",
    "r_fact = fact(r)\n",
    "n_r_fact = fact(n - r)\n",
    "ans = n_fact // (r_fact * n_r_fact)\n",
    "print(ans)"
   ]
  },
  {
   "cell_type": "markdown",
   "id": "853e2ecd",
   "metadata": {},
   "source": [
    "# Function to check if a number is prime"
   ]
  },
  {
   "cell_type": "code",
   "execution_count": 11,
   "id": "1b623d1f",
   "metadata": {},
   "outputs": [],
   "source": [
    "def isPrime(n):\n",
    "    for d in range(2,n):\n",
    "        if (n % d == 0):\n",
    "            break\n",
    "    else:\n",
    "        return True\n",
    "    \n",
    "    return False"
   ]
  },
  {
   "cell_type": "code",
   "execution_count": 12,
   "id": "26a0bdcb",
   "metadata": {},
   "outputs": [
    {
     "data": {
      "text/plain": [
       "True"
      ]
     },
     "execution_count": 12,
     "metadata": {},
     "output_type": "execute_result"
    }
   ],
   "source": [
    "isPrime(7)"
   ]
  },
  {
   "cell_type": "markdown",
   "id": "79618d9d",
   "metadata": {},
   "source": [
    "# Print all prime number"
   ]
  },
  {
   "cell_type": "code",
   "execution_count": 14,
   "id": "9a8de051",
   "metadata": {},
   "outputs": [],
   "source": [
    "def primeFrom2ToN(n):\n",
    "    for k in range(2, n+1):\n",
    "        is_K_prime = isPrime(k)\n",
    "        if(is_K_prime):\n",
    "            print(k)"
   ]
  },
  {
   "cell_type": "code",
   "execution_count": 15,
   "id": "346d7a14",
   "metadata": {},
   "outputs": [
    {
     "name": "stdout",
     "output_type": "stream",
     "text": [
      "3\n",
      "5\n",
      "7\n",
      "9\n"
     ]
    }
   ],
   "source": [
    "primeFrom2ToN(10)"
   ]
  },
  {
   "cell_type": "markdown",
   "id": "bcd8c4aa",
   "metadata": {},
   "source": [
    "# Find NCR"
   ]
  },
  {
   "cell_type": "code",
   "execution_count": 16,
   "id": "68ff326c",
   "metadata": {},
   "outputs": [],
   "source": [
    "def ncr(n,r):\n",
    "    n_fact = fact(n)\n",
    "    r_fact = fact(r)\n",
    "    n_r_fact = fact(n - r)\n",
    "    ans = n_fact // (r_fact * n_r_fact)\n",
    "    return ans"
   ]
  },
  {
   "cell_type": "code",
   "execution_count": 17,
   "id": "b8c1b269",
   "metadata": {},
   "outputs": [
    {
     "data": {
      "text/plain": [
       "10"
      ]
     },
     "execution_count": 17,
     "metadata": {},
     "output_type": "execute_result"
    }
   ],
   "source": [
    "ncr(5,2)"
   ]
  },
  {
   "cell_type": "markdown",
   "id": "19afdaed",
   "metadata": {},
   "source": [
    "# Fahrenheit to Celsius Function"
   ]
  },
  {
   "cell_type": "code",
   "execution_count": 38,
   "id": "6fa752f4",
   "metadata": {},
   "outputs": [],
   "source": [
    "def printTable(start,end,step):\n",
    "    for t in range(s, e+1, step):\n",
    "        ftc = int((t - 32) * 5/9)\n",
    "        print(t,ftc)\n"
   ]
  },
  {
   "cell_type": "code",
   "execution_count": 39,
   "id": "2171b0c2",
   "metadata": {},
   "outputs": [
    {
     "name": "stdout",
     "output_type": "stream",
     "text": [
      "0\n",
      "100\n",
      "20\n",
      "0 -17\n",
      "20 -6\n",
      "40 4\n",
      "60 15\n",
      "80 26\n",
      "100 37\n"
     ]
    }
   ],
   "source": [
    "s = int(input())\n",
    "e = int(input())\n",
    "step = int(input())\n",
    "printTable(s,e,step)"
   ]
  },
  {
   "cell_type": "markdown",
   "id": "27a79cb9",
   "metadata": {},
   "source": [
    "# Fibonacci Member"
   ]
  },
  {
   "cell_type": "code",
   "execution_count": 41,
   "id": "b195a73b",
   "metadata": {},
   "outputs": [],
   "source": [
    "# Given a number N, figure out if it is a member of fibonacci series or not. \n",
    "# Return true if the number is member of fibonacci series else false.\n",
    "\n",
    "def checkMember(n):\n",
    "    if(n==0 or n==1 or n==2):\n",
    "        return True\n",
    "    a = 0\n",
    "    b = 1\n",
    "    while(b < n):\n",
    "        c = a + b\n",
    "        a = b\n",
    "        b = c\n",
    "    if(b==n):\n",
    "        return True\n",
    "    return False\n"
   ]
  },
  {
   "cell_type": "code",
   "execution_count": 42,
   "id": "f9659fbb",
   "metadata": {},
   "outputs": [
    {
     "name": "stdout",
     "output_type": "stream",
     "text": [
      "5\n",
      "true\n"
     ]
    }
   ],
   "source": [
    "\n",
    "\n",
    "n=int(input())\n",
    "if(checkMember(n)):\n",
    "    print(\"true\")\n",
    "else:\n",
    "    print(\"false\")"
   ]
  },
  {
   "cell_type": "code",
   "execution_count": null,
   "id": "fedd73cf",
   "metadata": {},
   "outputs": [],
   "source": []
  }
 ],
 "metadata": {
  "kernelspec": {
   "display_name": "Python 3",
   "language": "python",
   "name": "python3"
  },
  "language_info": {
   "codemirror_mode": {
    "name": "ipython",
    "version": 3
   },
   "file_extension": ".py",
   "mimetype": "text/x-python",
   "name": "python",
   "nbconvert_exporter": "python",
   "pygments_lexer": "ipython3",
   "version": "3.8.8"
  }
 },
 "nbformat": 4,
 "nbformat_minor": 5
}
