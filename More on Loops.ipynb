{
 "cells": [
  {
   "cell_type": "markdown",
   "id": "1120d5c5",
   "metadata": {},
   "source": [
    "# Print multiples of 3"
   ]
  },
  {
   "cell_type": "code",
   "execution_count": 3,
   "id": "24fd138a",
   "metadata": {},
   "outputs": [
    {
     "name": "stdout",
     "output_type": "stream",
     "text": [
      "0\n",
      "100\n",
      "0,3,6,9,12,15,18,21,24,27,30,33,36,39,42,45,48,51,54,57,60,63,66,69,72,75,78,81,84,87,90,93,96,99,"
     ]
    }
   ],
   "source": [
    "a = int(input())\n",
    "b = int(input())\n",
    "\n",
    "for i in range (a, b+1):\n",
    "    if i % 3 == 0:\n",
    "        print(i, end = \",\")"
   ]
  },
  {
   "cell_type": "code",
   "execution_count": 4,
   "id": "abf8341a",
   "metadata": {},
   "outputs": [
    {
     "name": "stdout",
     "output_type": "stream",
     "text": [
      "0\n",
      "100\n",
      "0,3,6,9,12,15,18,21,24,27,30,33,36,39,42,45,48,51,54,57,60,63,66,69,72,75,78,81,84,87,90,93,96,99,"
     ]
    }
   ],
   "source": [
    "a = int(input())\n",
    "b = int(input())\n",
    "\n",
    "if a % 3 == 0:\n",
    "    s = a\n",
    "elif a % 3 == 1:\n",
    "    s = a + 2\n",
    "else:\n",
    "    s = a + 1\n",
    "\n",
    "for i in range (s, b+1, 3): #incrementing by 3\n",
    "        print(i, end = \",\")"
   ]
  },
  {
   "cell_type": "markdown",
   "id": "055c755b",
   "metadata": {},
   "source": [
    "# Check if a number is prime:"
   ]
  },
  {
   "cell_type": "code",
   "execution_count": 6,
   "id": "076c747c",
   "metadata": {},
   "outputs": [
    {
     "name": "stdout",
     "output_type": "stream",
     "text": [
      "7\n",
      "Prime\n"
     ]
    }
   ],
   "source": [
    "n = int(input())\n",
    "flag = False\n",
    "for d in range(2, n, 1):\n",
    "    if n % d == 0:\n",
    "        falg = True\n",
    "\n",
    "if flag:\n",
    "    print(\"Not Prime\")\n",
    "else:\n",
    "    print(\"Prime\")"
   ]
  },
  {
   "cell_type": "markdown",
   "id": "cef8c79a",
   "metadata": {},
   "source": [
    "# Pattern"
   ]
  },
  {
   "cell_type": "code",
   "execution_count": 8,
   "id": "e4a0c696",
   "metadata": {},
   "outputs": [
    {
     "name": "stdout",
     "output_type": "stream",
     "text": [
      "4\n",
      "   1\n",
      "  232\n",
      " 34543\n",
      "4567654\n"
     ]
    }
   ],
   "source": [
    "n = int(input())\n",
    "\n",
    "for i in range (1, n+1, 1):\n",
    "    for spaces in range(n - i):\n",
    "        print(\" \", end=\"\")\n",
    "    for increase in range(i, 2 * i, 1):\n",
    "        print(increase, end=\"\")\n",
    "    for decrease in range(2*i - 2, i -1, -1):\n",
    "        print(decrease, end=\"\")\n",
    "    print()"
   ]
  },
  {
   "cell_type": "markdown",
   "id": "c3ea4c13",
   "metadata": {},
   "source": [
    "### Break"
   ]
  },
  {
   "cell_type": "code",
   "execution_count": 13,
   "id": "da99c4db",
   "metadata": {},
   "outputs": [
    {
     "name": "stdout",
     "output_type": "stream",
     "text": [
      "1 2 1 2 "
     ]
    }
   ],
   "source": [
    "i=1\n",
    "while i<3:\n",
    "    j=1\n",
    "    while j<5:\n",
    "        if j==3:\n",
    "            break\n",
    "        print(j,end=\" \")\n",
    "        j = j + 1\n",
    "    i = i + 1"
   ]
  },
  {
   "cell_type": "code",
   "execution_count": 15,
   "id": "4bf36063",
   "metadata": {},
   "outputs": [
    {
     "name": "stdout",
     "output_type": "stream",
     "text": [
      "1 2 3 4 Else is also printed\n"
     ]
    }
   ],
   "source": [
    "i=1\n",
    "while i<5:\n",
    "    if i == 6:\n",
    "        break\n",
    "    print(i,end=\" \")\n",
    "    i = i + 1\n",
    "else:\n",
    "    print(\"Else is also printed\")"
   ]
  },
  {
   "cell_type": "code",
   "execution_count": 17,
   "id": "ca92aa43",
   "metadata": {},
   "outputs": [
    {
     "name": "stdout",
     "output_type": "stream",
     "text": [
      "1 2 "
     ]
    }
   ],
   "source": [
    "i=1\n",
    "while i<5:\n",
    "    if i == 3:\n",
    "        break\n",
    "    print(i,end=\" \")\n",
    "    i = i + 1\n",
    "else:\n",
    "    print(\"Else is also printed\")"
   ]
  },
  {
   "cell_type": "markdown",
   "id": "7c19cebf",
   "metadata": {},
   "source": [
    "# Continue"
   ]
  },
  {
   "cell_type": "code",
   "execution_count": null,
   "id": "a7b02ee3",
   "metadata": {},
   "outputs": [],
   "source": []
  }
 ],
 "metadata": {
  "kernelspec": {
   "display_name": "Python 3",
   "language": "python",
   "name": "python3"
  },
  "language_info": {
   "codemirror_mode": {
    "name": "ipython",
    "version": 3
   },
   "file_extension": ".py",
   "mimetype": "text/x-python",
   "name": "python",
   "nbconvert_exporter": "python",
   "pygments_lexer": "ipython3",
   "version": "3.8.8"
  }
 },
 "nbformat": 4,
 "nbformat_minor": 5
}
