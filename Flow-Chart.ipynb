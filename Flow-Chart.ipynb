{
 "cells": [
  {
   "cell_type": "code",
   "execution_count": null,
   "id": "3cb4916d",
   "metadata": {},
   "outputs": [],
   "source": [
    "What is a Flow chart?\n",
    "    . Diagrammatic representation illustrating a solution to a given problem.\n",
    "    . Allows you to break down any process into smaller steps and display them in a visually pleasing way\n",
    "\n",
    "Advantages:\n",
    "    . Debugging\n",
    "    . Language independent\n",
    "    . Breakdown the process into smaller steps reduce the complicated structure.\n",
    "\n",
    "Flow Chart components:\n",
    "    . Terminator\n",
    "    . Input/Output\n",
    "    . Process\n",
    "    . Decision\n",
    "    . Arrow\n",
    "\n",
    "Example: Add two numbers\n",
    "    Start #Terminator\n",
    "    Read A,B #Input/Output\n",
    "    Sum = A+B #process\n",
    "    Output Sum #Output\n",
    "    End\n",
    "    \n"
   ]
  },
  {
   "cell_type": "code",
   "execution_count": null,
   "id": "a6c11c22",
   "metadata": {},
   "outputs": [],
   "source": []
  }
 ],
 "metadata": {
  "kernelspec": {
   "display_name": "Python 3",
   "language": "python",
   "name": "python3"
  },
  "language_info": {
   "codemirror_mode": {
    "name": "ipython",
    "version": 3
   },
   "file_extension": ".py",
   "mimetype": "text/x-python",
   "name": "python",
   "nbconvert_exporter": "python",
   "pygments_lexer": "ipython3",
   "version": "3.8.8"
  }
 },
 "nbformat": 4,
 "nbformat_minor": 5
}
